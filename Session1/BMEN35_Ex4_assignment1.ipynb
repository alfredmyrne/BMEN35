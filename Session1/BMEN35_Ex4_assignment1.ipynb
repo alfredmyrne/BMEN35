{
  "cells": [
    {
      "cell_type": "markdown",
      "source": [
        "<a href=\"https://colab.research.google.com/github/antfolk/BMEN35/blob/main/Session1/BMEN35_Ex4_assignment1.ipynb\" target=\"_parent\"><img src=\"https://colab.research.google.com/assets/colab-badge.svg\" alt=\"Open In Colab\"/></a>"
      ],
      "metadata": {
        "id": "view-in-github",
        "colab_type": "text"
      }
    },
    {
      "cell_type": "markdown",
      "source": [
        "# Assignment 1\n",
        "\n",
        "\n",
        "## Fill in your name below\n",
        "\n",
        "Alfred Myrne al5247my-s\n",
        "\n",
        "## Your mission now is the following:\n",
        "\n",
        "\n",
        "1.   Generate x-values (1000 values between 0 and 5)\n",
        "2.   Generate y-values according to some function (y = x, y = e^x, y = x^2 or similar) that is defined through all x-values\n",
        "3. Take 100 random samples from the y array. (tip: np.random.randint(x,y,z) generates z number of integer values between x and y). Compute the mean of these 100 random samples.\n",
        "4. Repeat step 3, 50000 times and store the means in a variable (clt)\n",
        "5. Plot a histogram of the clt variable\n",
        "6. Go back and change the function in step 2 to something else and run the script again.\n",
        "7. What is the plot showing?\n",
        "\n",
        "\n",
<<<<<<< HEAD
        "### When you have finished this assignment , save this notebook, download it and submit it as assignment 1 in Canvas."
      ]
=======
        "### When you have finished this assignment , save this notebook and submit it as assignment 1 in Canvas."
      ],
      "metadata": {
        "id": "557d33a8"
      }
>>>>>>> 23f4836 (three first done)
    },
    {
      "cell_type": "code",
      "execution_count": 16,
      "source": [
        "import numpy as np\n",
        "from matplotlib import pyplot\n",
        "import math"
      ],
      "outputs": [],
      "metadata": {
        "id": "d703706d"
      }
    },
    {
      "cell_type": "code",
      "execution_count": 17,
      "source": [
        "X = [np.random.randint(6) for _ in range(1000)]"
      ],
      "outputs": [],
      "metadata": {}
    },
    {
      "cell_type": "code",
      "execution_count": 23,
      "source": [
        "def y(x):\n",
        "    return math.pow(math.e, x)\n",
        "\n",
        "def y2(x):\n",
        "    return math.pow(x, 2) + 2 * x\n",
        "\n",
        "# Y = list(map(y, X))\n",
        "Y = list(map(y2, X))\n"
      ],
      "outputs": [],
      "metadata": {}
    },
    {
      "cell_type": "code",
      "execution_count": 24,
      "source": [
        "def mean(samples=100):\n",
        "\n",
        "    samples = [Y[i] for i in np.random.randint(0, len(Y), samples)]\n",
        "\n",
        "    return np.mean(samples)"
      ],
      "outputs": [],
      "metadata": {}
    },
    {
      "cell_type": "code",
      "execution_count": 25,
      "source": [
        "def repeat(repeats=50000):\n",
        "\n",
        "    return [mean() for _ in range(repeats)]\n",
        "\n",
        "clt = repeat()"
      ],
      "outputs": [],
      "metadata": {}
    },
    {
      "cell_type": "code",
      "execution_count": 26,
      "source": [
        "pyplot.hist(clt)"
      ],
      "outputs": [
        {
          "output_type": "execute_result",
          "data": {
            "text/plain": [
              "(array([   23.,   292.,  2239.,  8429., 15290., 14587.,  7037.,  1833.,\n",
              "          250.,    20.]),\n",
              " array([ 9.18 , 10.206, 11.232, 12.258, 13.284, 14.31 , 15.336, 16.362,\n",
              "        17.388, 18.414, 19.44 ]),\n",
              " <BarContainer object of 10 artists>)"
            ]
          },
          "metadata": {},
          "execution_count": 26
        },
        {
          "output_type": "display_data",
          "data": {
            "image/png": "iVBORw0KGgoAAAANSUhEUgAAAjkAAAGhCAYAAACDNqXeAAAAOXRFWHRTb2Z0d2FyZQBNYXRwbG90bGliIHZlcnNpb24zLjYuMCwgaHR0cHM6Ly9tYXRwbG90bGliLm9yZy89olMNAAAACXBIWXMAAA9hAAAPYQGoP6dpAAAvC0lEQVR4nO3de3QUZZ7G8Sch5CLaHQKSptcA2dUFogzIRYgDOCw5BIk4UdwBjcCOEVZNVC4iMEgGHUcwDCgoS5YZZ8KusCJ7JMtFA5lwiSshQDDLRYg4E24ynbgH0m2iQCC1f8xJrS0RiHZo8vL9nFPnTL/vr6p+VYc5/Vipqg6xLMsSAACAYUKD3QAAAEBzIOQAAAAjEXIAAICRCDkAAMBIhBwAAGAkQg4AADASIQcAABiJkAMAAIxEyAEAAEYi5AAAACM1OeQUFRVp5MiRcrvdCgkJUV5e3kU1Bw8e1P333y+n06k2bdqoX79+OnbsmD1/5swZZWRkqF27drrxxhs1atQoVVZW+m3j2LFjSklJ0Q033KAOHTpo2rRpOn/+vF/N1q1b1bt3b0VEROjWW29Vbm5uUw8HAAAYqskhp7a2Vj179tSSJUsanf/Tn/6kgQMHqlu3btq6dav27t2r2bNnKzIy0q6ZPHmy1q1bp9WrV2vbtm06efKkHnzwQXv+woULSklJ0blz57R9+3YtX75cubm5ysrKsmsqKiqUkpKiIUOGqKysTJMmTdLjjz+ujRs3NvWQAACAgUJ+yA90hoSEaM2aNUpNTbXHxowZo9atW+vf//3fG13H6/Xq5ptv1sqVK/XQQw9Jkg4dOqTu3buruLhYAwYM0AcffKD77rtPJ0+eVGxsrCQpJydH06dP1xdffKHw8HBNnz5dGzZs0P79+/32XV1drfz8/Cvqv76+XidPntRNN92kkJCQ73kWAADA1WRZlr788ku53W6Fhl7ieo31A0iy1qxZY3++cOGCdeONN1ovvfSSNWzYMOvmm2+27rrrLr+awsJCS5J1+vRpv2116tTJWrhwoWVZljV79myrZ8+efvN//vOfLUnWnj17LMuyrEGDBlnPPvusX83vf/97y+FwfGe/Z86csbxer7188sknliQWFhYWFhaWFrgcP378kjklTAFUVVWlmpoazZs3Ty+//LJeffVV5efn68EHH9SWLVt0zz33yOPxKDw8XNHR0X7rxsbGyuPxSJI8Ho99Beeb8w1zl6rx+Xz6+uuvFRUVdVF/c+fO1YsvvnjR+PHjx+VwOL73cQMAgKvH5/MpLi5ON9100yXrAhpy6uvrJUk//elPNXnyZElSr169tH37duXk5Oiee+4J5O6abObMmZoyZYr9ueEkORwOQg4AAC3M5W41Cegj5O3bt1dYWJgSEhL8xrt3724/XeVyuXTu3DlVV1f71VRWVsrlctk1337aquHz5WocDkejV3EkKSIiwg40BBsAAMwW0JATHh6ufv36qby83G/8008/VefOnSVJffr0UevWrVVYWGjPl5eX69ixY0pMTJQkJSYmat++faqqqrJrCgoK5HA47ACVmJjot42GmoZtAACA61uT/1xVU1Ojzz77zP5cUVGhsrIyxcTEqFOnTpo2bZpGjx6twYMHa8iQIcrPz9e6deu0detWSZLT6VR6erqmTJmimJgYORwOPf3000pMTNSAAQMkScOGDVNCQoLGjh2r7OxseTwevfDCC8rIyFBERIQk6YknntCbb76p559/Xo899pg2b96sd999Vxs2bAjAaQEAAC3eJW9LbsSWLVsavcN5/Pjxds1bb71l3XrrrVZkZKTVs2dPKy8vz28bX3/9tfXUU09Zbdu2tW644QbrgQcesP7yl7/41Rw5csS69957raioKKt9+/bW1KlTrbq6uot66dWrlxUeHm797d/+rfWHP/yhScfi9XotSZbX623SegAAIHiu9Pv7B70np6Xz+XxyOp3yer3cnwMAQAtxpd/f/HYVAAAwEiEHAAAYiZADAACMRMgBAABGIuQAAAAjEXIAAICRCDkAAMBIhBwAAGAkQg4AADBSk3+7CsD1qcuMlve7cEfmpQS7BQBBxJUcAABgJEIOAAAwEiEHAAAYiZADAACMRMgBAABGIuQAAAAjEXIAAICRCDkAAMBIhBwAAGAkQg4AADASIQcAABiJkAMAAIxEyAEAAEYi5AAAACMRcgAAgJHCgt0AADSXLjM2BLuFJjsyLyXYLQDG4EoOAAAwEiEHAAAYiZADAACMRMgBAABGIuQAAAAjEXIAAICRCDkAAMBIhBwAAGAkQg4AADBSk0NOUVGRRo4cKbfbrZCQEOXl5X1n7RNPPKGQkBC9/vrrfuOnTp1SWlqaHA6HoqOjlZ6erpqaGr+avXv3atCgQYqMjFRcXJyys7Mv2v7q1avVrVs3RUZGqkePHnr//febejgAAMBQTQ45tbW16tmzp5YsWXLJujVr1mjHjh1yu90XzaWlpenAgQMqKCjQ+vXrVVRUpIkTJ9rzPp9Pw4YNU+fOnVVaWqr58+drzpw5WrZsmV2zfft2Pfzww0pPT9fHH3+s1NRUpaamav/+/U09JAAAYKAQy7Ks771ySIjWrFmj1NRUv/HPP/9c/fv318aNG5WSkqJJkyZp0qRJkqSDBw8qISFBu3btUt++fSVJ+fn5GjFihE6cOCG3262lS5dq1qxZ8ng8Cg8PlyTNmDFDeXl5OnTokCRp9OjRqq2t1fr16+39DhgwQL169VJOTs4V9e/z+eR0OuX1euVwOL7vaQCuCy3xd6BaIn67Cri8K/3+Dvg9OfX19Ro7dqymTZum22+//aL54uJiRUdH2wFHkpKSkhQaGqqSkhK7ZvDgwXbAkaTk5GSVl5fr9OnTdk1SUpLftpOTk1VcXPydvZ09e1Y+n89vAQAAZgp4yHn11VcVFhamZ555ptF5j8ejDh06+I2FhYUpJiZGHo/HromNjfWrafh8uZqG+cbMnTtXTqfTXuLi4pp2cAAAoMUIaMgpLS3VokWLlJubq5CQkEBuOiBmzpwpr9drL8ePHw92SwAAoJkENOR8+OGHqqqqUqdOnRQWFqawsDAdPXpUU6dOVZcuXSRJLpdLVVVVfuudP39ep06dksvlsmsqKyv9aho+X66mYb4xERERcjgcfgsAADBTQEPO2LFjtXfvXpWVldmL2+3WtGnTtHHjRklSYmKiqqurVVpaaq+3efNm1dfXq3///nZNUVGR6urq7JqCggJ17dpVbdu2tWsKCwv99l9QUKDExMRAHhIAAGihwpq6Qk1NjT777DP7c0VFhcrKyhQTE6NOnTqpXbt2fvWtW7eWy+VS165dJUndu3fX8OHDNWHCBOXk5Kiurk6ZmZkaM2aM/bj5I488ohdffFHp6emaPn269u/fr0WLFum1116zt/vss8/qnnvu0YIFC5SSkqJ33nlHu3fv9nvMHAAAXL+afCVn9+7duvPOO3XnnXdKkqZMmaI777xTWVlZV7yNFStWqFu3bho6dKhGjBihgQMH+oUTp9OpTZs2qaKiQn369NHUqVOVlZXl9y6du+++WytXrtSyZcvUs2dP/ed//qfy8vJ0xx13NPWQAACAgX7Qe3JaOt6TA1w53pNzdfCeHODygvaeHAAAgGsBIQcAABiJkAMAAIxEyAEAAEYi5AAAACMRcgAAgJEIOQAAwEiEHAAAYCRCDgAAMBIhBwAAGImQAwAAjETIAQAARiLkAAAAIxFyAACAkQg5AADASIQcAABgJEIOAAAwEiEHAAAYiZADAACMRMgBAABGIuQAAAAjEXIAAICRCDkAAMBIhBwAAGAkQg4AADASIQcAABiJkAMAAIxEyAEAAEYi5AAAACMRcgAAgJEIOQAAwEiEHAAAYCRCDgAAMBIhBwAAGImQAwAAjNTkkFNUVKSRI0fK7XYrJCREeXl59lxdXZ2mT5+uHj16qE2bNnK73Ro3bpxOnjzpt41Tp04pLS1NDodD0dHRSk9PV01NjV/N3r17NWjQIEVGRiouLk7Z2dkX9bJ69Wp169ZNkZGR6tGjh95///2mHg4AADBUk0NObW2tevbsqSVLllw099VXX2nPnj2aPXu29uzZo/fee0/l5eW6//77/erS0tJ04MABFRQUaP369SoqKtLEiRPteZ/Pp2HDhqlz584qLS3V/PnzNWfOHC1btsyu2b59ux5++GGlp6fr448/VmpqqlJTU7V///6mHhIAADBQiGVZ1vdeOSREa9asUWpq6nfW7Nq1S3fddZeOHj2qTp066eDBg0pISNCuXbvUt29fSVJ+fr5GjBihEydOyO12a+nSpZo1a5Y8Ho/Cw8MlSTNmzFBeXp4OHTokSRo9erRqa2u1fv16e18DBgxQr169lJOTc0X9+3w+OZ1Oeb1eORyO73kWgOtDlxkbgt3CdeHIvJRgtwBc8670+7vZ78nxer0KCQlRdHS0JKm4uFjR0dF2wJGkpKQkhYaGqqSkxK4ZPHiwHXAkKTk5WeXl5Tp9+rRdk5SU5Lev5ORkFRcXf2cvZ8+elc/n81sAAICZmjXknDlzRtOnT9fDDz9sJy2Px6MOHTr41YWFhSkmJkYej8euiY2N9atp+Hy5mob5xsydO1dOp9Ne4uLiftgBAgCAa1azhZy6ujr97Gc/k2VZWrp0aXPtpklmzpwpr9drL8ePHw92SwAAoJmENcdGGwLO0aNHtXnzZr+/l7lcLlVVVfnVnz9/XqdOnZLL5bJrKisr/WoaPl+upmG+MREREYqIiPj+BwYAAFqMgF/JaQg4hw8f1h//+Ee1a9fObz4xMVHV1dUqLS21xzZv3qz6+nr179/frikqKlJdXZ1dU1BQoK5du6pt27Z2TWFhod+2CwoKlJiYGOhDAgAALVCTQ05NTY3KyspUVlYmSaqoqFBZWZmOHTumuro6PfTQQ9q9e7dWrFihCxcuyOPxyOPx6Ny5c5Kk7t27a/jw4ZowYYJ27typjz76SJmZmRozZozcbrck6ZFHHlF4eLjS09N14MABrVq1SosWLdKUKVPsPp599lnl5+drwYIFOnTokObMmaPdu3crMzMzAKcFAAC0dE1+hHzr1q0aMmTIRePjx4/XnDlzFB8f3+h6W7Zs0U9+8hNJf30ZYGZmptatW6fQ0FCNGjVKixcv1o033mjX7927VxkZGdq1a5fat2+vp59+WtOnT/fb5urVq/XCCy/oyJEjuu2225Sdna0RI0Zc8bHwCDlw5XiE/OrgEXLg8q70+/sHvSenpSPkAFeOkHN1EHKAy7tm3pMDAAAQDIQcAABgJEIOAAAwEiEHAAAYiZADAACMRMgBAABGIuQAAAAjEXIAAICRCDkAAMBIhBwAAGAkQg4AADASIQcAABiJkAMAAIxEyAEAAEYi5AAAACMRcgAAgJEIOQAAwEiEHAAAYCRCDgAAMBIhBwAAGImQAwAAjETIAQAARiLkAAAAIxFyAACAkQg5AADASIQcAABgJEIOAAAwEiEHAAAYiZADAACMRMgBAABGIuQAAAAjEXIAAICRCDkAAMBIhBwAAGAkQg4AADBSk0NOUVGRRo4cKbfbrZCQEOXl5fnNW5alrKwsdezYUVFRUUpKStLhw4f9ak6dOqW0tDQ5HA5FR0crPT1dNTU1fjV79+7VoEGDFBkZqbi4OGVnZ1/Uy+rVq9WtWzdFRkaqR48eev/995t6OAAAwFBNDjm1tbXq2bOnlixZ0uh8dna2Fi9erJycHJWUlKhNmzZKTk7WmTNn7Jq0tDQdOHBABQUFWr9+vYqKijRx4kR73ufzadiwYercubNKS0s1f/58zZkzR8uWLbNrtm/frocffljp6en6+OOPlZqaqtTUVO3fv7+phwQAAAwUYlmW9b1XDgnRmjVrlJqaKumvV3HcbremTp2q5557TpLk9XoVGxur3NxcjRkzRgcPHlRCQoJ27dqlvn37SpLy8/M1YsQInThxQm63W0uXLtWsWbPk8XgUHh4uSZoxY4by8vJ06NAhSdLo0aNVW1ur9evX2/0MGDBAvXr1Uk5OzhX17/P55HQ65fV65XA4vu9pAK4LXWZsCHYL14Uj81KC3QJwzbvS7++A3pNTUVEhj8ejpKQke8zpdKp///4qLi6WJBUXFys6OtoOOJKUlJSk0NBQlZSU2DWDBw+2A44kJScnq7y8XKdPn7ZrvrmfhpqG/TTm7Nmz8vl8fgsAADBTQEOOx+ORJMXGxvqNx8bG2nMej0cdOnTwmw8LC1NMTIxfTWPb+OY+vqumYb4xc+fOldPptJe4uLimHiIAAGghrqunq2bOnCmv12svx48fD3ZLAACgmQQ05LhcLklSZWWl33hlZaU953K5VFVV5Td//vx5nTp1yq+msW18cx/fVdMw35iIiAg5HA6/BQAAmCmgISc+Pl4ul0uFhYX2mM/nU0lJiRITEyVJiYmJqq6uVmlpqV2zefNm1dfXq3///nZNUVGR6urq7JqCggJ17dpVbdu2tWu+uZ+Gmob9AACA61uTQ05NTY3KyspUVlYm6a83G5eVlenYsWMKCQnRpEmT9PLLL2vt2rXat2+fxo0bJ7fbbT+B1b17dw0fPlwTJkzQzp079dFHHykzM1NjxoyR2+2WJD3yyCMKDw9Xenq6Dhw4oFWrVmnRokWaMmWK3cezzz6r/Px8LViwQIcOHdKcOXO0e/duZWZm/vCzAgAAWrywpq6we/duDRkyxP7cEDzGjx+v3NxcPf/886qtrdXEiRNVXV2tgQMHKj8/X5GRkfY6K1asUGZmpoYOHarQ0FCNGjVKixcvtuedTqc2bdqkjIwM9enTR+3bt1dWVpbfu3TuvvturVy5Ui+88IJ+8Ytf6LbbblNeXp7uuOOO73UiAACAWX7Qe3JaOt6TA1w53pNzdfCeHODygvKeHAAAgGsFIQcAABiJkAMAAIxEyAEAAEYi5AAAACMRcgAAgJEIOQAAwEiEHAAAYCRCDgAAMBIhBwAAGImQAwAAjETIAQAARiLkAAAAIxFyAACAkQg5AADASIQcAABgJEIOAAAwEiEHAAAYiZADAACMRMgBAABGIuQAAAAjEXIAAICRCDkAAMBIhBwAAGAkQg4AADASIQcAABiJkAMAAIxEyAEAAEYi5AAAACOFBbsB4HrUZcaGYLcAAMbjSg4AADASIQcAABiJkAMAAIxEyAEAAEYi5AAAACMFPORcuHBBs2fPVnx8vKKiovR3f/d3+tWvfiXLsuway7KUlZWljh07KioqSklJSTp8+LDfdk6dOqW0tDQ5HA5FR0crPT1dNTU1fjV79+7VoEGDFBkZqbi4OGVnZwf6cAAAQAsV8JDz6quvaunSpXrzzTd18OBBvfrqq8rOztYbb7xh12RnZ2vx4sXKyclRSUmJ2rRpo+TkZJ05c8auSUtL04EDB1RQUKD169erqKhIEydOtOd9Pp+GDRumzp07q7S0VPPnz9ecOXO0bNmyQB8SAABogUKsb15iCYD77rtPsbGxeuutt+yxUaNGKSoqSm+//bYsy5Lb7dbUqVP13HPPSZK8Xq9iY2OVm5urMWPG6ODBg0pISNCuXbvUt29fSVJ+fr5GjBihEydOyO12a+nSpZo1a5Y8Ho/Cw8MlSTNmzFBeXp4OHTp0Rb36fD45nU55vV45HI5AngbgknhPDr7LkXkpwW4BuOZd6fd3wK/k3H333SosLNSnn34qSfqf//kf/fd//7fuvfdeSVJFRYU8Ho+SkpLsdZxOp/r376/i4mJJUnFxsaKjo+2AI0lJSUkKDQ1VSUmJXTN48GA74EhScnKyysvLdfr06UZ7O3v2rHw+n98CAADMFPA3Hs+YMUM+n0/dunVTq1atdOHCBf36179WWlqaJMnj8UiSYmNj/daLjY215zwejzp06ODfaFiYYmJi/Gri4+Mv2kbDXNu2bS/qbe7cuXrxxRcDcJQAAOBaF/ArOe+++65WrFihlStXas+ePVq+fLl+85vfaPny5YHeVZPNnDlTXq/XXo4fPx7slgAAQDMJ+JWcadOmacaMGRozZowkqUePHjp69Kjmzp2r8ePHy+VySZIqKyvVsWNHe73Kykr16tVLkuRyuVRVVeW33fPnz+vUqVP2+i6XS5WVlX41DZ8bar4tIiJCERERP/wgAQDANS/gV3K++uorhYb6b7ZVq1aqr6+XJMXHx8vlcqmwsNCe9/l8KikpUWJioiQpMTFR1dXVKi0ttWs2b96s+vp69e/f364pKipSXV2dXVNQUKCuXbs2+qcqAABwfQl4yBk5cqR+/etfa8OGDTpy5IjWrFmjhQsX6oEHHpAkhYSEaNKkSXr55Ze1du1a7du3T+PGjZPb7VZqaqokqXv37ho+fLgmTJignTt36qOPPlJmZqbGjBkjt9stSXrkkUcUHh6u9PR0HThwQKtWrdKiRYs0ZcqUQB8SAABogQL+56o33nhDs2fP1lNPPaWqqiq53W798z//s7Kysuya559/XrW1tZo4caKqq6s1cOBA5efnKzIy0q5ZsWKFMjMzNXToUIWGhmrUqFFavHixPe90OrVp0yZlZGSoT58+at++vbKysvzepQMAAK5fAX9PTkvCe3IQLLwnB9+F9+QAlxe09+QAAABcCwg5AADASIQcAABgJEIOAAAwEiEHAAAYiZADAACMRMgBAABGIuQAAAAjEXIAAICRCDkAAMBIhBwAAGAkQg4AADASIQcAABiJkAMAAIxEyAEAAEYKC3YDAID/12XGhmC30GRH5qUEuwWgUVzJAQAARiLkAAAAIxFyAACAkQg5AADASIQcAABgJEIOAAAwEiEHAAAYiZADAACMRMgBAABGIuQAAAAjEXIAAICRCDkAAMBIhBwAAGAkQg4AADASIQcAABiJkAMAAIxEyAEAAEYi5AAAACMRcgAAgJGaJeR8/vnnevTRR9WuXTtFRUWpR48e2r17tz1vWZaysrLUsWNHRUVFKSkpSYcPH/bbxqlTp5SWliaHw6Ho6Gilp6erpqbGr2bv3r0aNGiQIiMjFRcXp+zs7OY4HAAA0AIFPOScPn1aP/7xj9W6dWt98MEH+uSTT7RgwQK1bdvWrsnOztbixYuVk5OjkpIStWnTRsnJyTpz5oxdk5aWpgMHDqigoEDr169XUVGRJk6caM/7fD4NGzZMnTt3VmlpqebPn685c+Zo2bJlgT4kAADQAoVYlmUFcoMzZszQRx99pA8//LDRecuy5Ha7NXXqVD333HOSJK/Xq9jYWOXm5mrMmDE6ePCgEhIStGvXLvXt21eSlJ+frxEjRujEiRNyu91aunSpZs2aJY/Ho/DwcHvfeXl5OnTo0BX16vP55HQ65fV65XA4AnD0wJXpMmNDsFsAAubIvJRgt4DrzJV+fwf8Ss7atWvVt29f/eM//qM6dOigO++8U7/97W/t+YqKCnk8HiUlJdljTqdT/fv3V3FxsSSpuLhY0dHRdsCRpKSkJIWGhqqkpMSuGTx4sB1wJCk5OVnl5eU6ffp0o72dPXtWPp/PbwEAAGYKeMj585//rKVLl+q2227Txo0b9eSTT+qZZ57R8uXLJUkej0eSFBsb67debGysPefxeNShQwe/+bCwMMXExPjVNLaNb+7j2+bOnSun02kvcXFxP/BoAQDAtSrgIae+vl69e/fWK6+8ojvvvFMTJ07UhAkTlJOTE+hdNdnMmTPl9Xrt5fjx48FuCQAANJOAh5yOHTsqISHBb6x79+46duyYJMnlckmSKisr/WoqKyvtOZfLpaqqKr/58+fP69SpU341jW3jm/v4toiICDkcDr8FAACYKeAh58c//rHKy8v9xj799FN17txZkhQfHy+Xy6XCwkJ73ufzqaSkRImJiZKkxMREVVdXq7S01K7ZvHmz6uvr1b9/f7umqKhIdXV1dk1BQYG6du3q9yQXAAC4PgU85EyePFk7duzQK6+8os8++0wrV67UsmXLlJGRIUkKCQnRpEmT9PLLL2vt2rXat2+fxo0bJ7fbrdTUVEl/vfIzfPhwTZgwQTt37tRHH32kzMxMjRkzRm63W5L0yCOPKDw8XOnp6Tpw4IBWrVqlRYsWacqUKYE+JAAA0AKFBXqD/fr105o1azRz5ky99NJLio+P1+uvv660tDS75vnnn1dtba0mTpyo6upqDRw4UPn5+YqMjLRrVqxYoczMTA0dOlShoaEaNWqUFi9ebM87nU5t2rRJGRkZ6tOnj9q3b6+srCy/d+kAAIDrV8Dfk9OS8J4cBAvvyYFJeE8OrragvScHAADgWkDIAQAARiLkAAAAIxFyAACAkQg5AADASIQcAABgJEIOAAAwEiEHAAAYiZADAACMRMgBAABGIuQAAAAjEXIAAICRCDkAAMBIhBwAAGAkQg4AADASIQcAABiJkAMAAIxEyAEAAEYi5AAAACMRcgAAgJEIOQAAwEiEHAAAYCRCDgAAMBIhBwAAGImQAwAAjETIAQAARiLkAAAAIxFyAACAkQg5AADASIQcAABgJEIOAAAwEiEHAAAYiZADAACMRMgBAABGIuQAAAAjNXvImTdvnkJCQjRp0iR77MyZM8rIyFC7du104403atSoUaqsrPRb79ixY0pJSdENN9ygDh06aNq0aTp//rxfzdatW9W7d29FRETo1ltvVW5ubnMfDgAAaCGaNeTs2rVL//qv/6of/ehHfuOTJ0/WunXrtHr1am3btk0nT57Ugw8+aM9fuHBBKSkpOnfunLZv367ly5crNzdXWVlZdk1FRYVSUlI0ZMgQlZWVadKkSXr88ce1cePG5jwkAADQQjRbyKmpqVFaWpp++9vfqm3btva41+vVW2+9pYULF+of/uEf1KdPH/3hD3/Q9u3btWPHDknSpk2b9Mknn+jtt99Wr169dO+99+pXv/qVlixZonPnzkmScnJyFB8frwULFqh79+7KzMzUQw89pNdee625DgkAALQgzRZyMjIylJKSoqSkJL/x0tJS1dXV+Y1369ZNnTp1UnFxsSSpuLhYPXr0UGxsrF2TnJwsn8+nAwcO2DXf3nZycrK9jcacPXtWPp/PbwEAAGYKa46NvvPOO9qzZ4927dp10ZzH41F4eLiio6P9xmNjY+XxeOyabwachvmGuUvV+Hw+ff3114qKirpo33PnztWLL774vY8LAAC0HAG/knP8+HE9++yzWrFihSIjIwO9+R9k5syZ8nq99nL8+PFgtwQAAJpJwENOaWmpqqqq1Lt3b4WFhSksLEzbtm3T4sWLFRYWptjYWJ07d07V1dV+61VWVsrlckmSXC7XRU9bNXy+XI3D4Wj0Ko4kRUREyOFw+C0AAMBMAQ85Q4cO1b59+1RWVmYvffv2VVpamv2/W7durcLCQnud8vJyHTt2TImJiZKkxMRE7du3T1VVVXZNQUGBHA6HEhIS7JpvbqOhpmEbAADg+hbwe3Juuukm3XHHHX5jbdq0Ubt27ezx9PR0TZkyRTExMXI4HHr66aeVmJioAQMGSJKGDRumhIQEjR07VtnZ2fJ4PHrhhReUkZGhiIgISdITTzyhN998U88//7wee+wxbd68We+++642bNgQ6EMCAAAtULPceHw5r732mkJDQzVq1CidPXtWycnJ+pd/+Rd7vlWrVlq/fr2efPJJJSYmqk2bNho/frxeeukluyY+Pl4bNmzQ5MmTtWjRIt1yyy363e9+p+Tk5GAcEgAAuMaEWJZlBbuJYPH5fHI6nfJ6vdyfg6uqywyuOMIcR+alBLsFXGeu9Pub364CAABGIuQAAAAjEXIAAICRCDkAAMBIhBwAAGAkQg4AADASIQcAABiJkAMAAIxEyAEAAEYi5AAAACMRcgAAgJEIOQAAwEiEHAAAYCRCDgAAMBIhBwAAGImQAwAAjETIAQAARiLkAAAAIxFyAACAkQg5AADASIQcAABgJEIOAAAwEiEHAAAYiZADAACMRMgBAABGIuQAAAAjEXIAAICRCDkAAMBIhBwAAGAkQg4AADASIQcAABiJkAMAAIxEyAEAAEYi5AAAACOFBbsB4IfoMmNDsFsAAFyjAn4lZ+7cuerXr59uuukmdejQQampqSovL/erOXPmjDIyMtSuXTvdeOONGjVqlCorK/1qjh07ppSUFN1www3q0KGDpk2bpvPnz/vVbN26Vb1791ZERIRuvfVW5ebmBvpwAABACxXwkLNt2zZlZGRox44dKigoUF1dnYYNG6ba2lq7ZvLkyVq3bp1Wr16tbdu26eTJk3rwwQft+QsXLiglJUXnzp3T9u3btXz5cuXm5iorK8uuqaioUEpKioYMGaKysjJNmjRJjz/+uDZu3BjoQwIAAC1QiGVZVnPu4IsvvlCHDh20bds2DR48WF6vVzfffLNWrlyphx56SJJ06NAhde/eXcXFxRowYIA++OAD3XfffTp58qRiY2MlSTk5OZo+fbq++OILhYeHa/r06dqwYYP2799v72vMmDGqrq5Wfn7+FfXm8/nkdDrl9XrlcDgCf/Bodvy5Cgi+I/NSgt0CrjNX+v3d7Dcee71eSVJMTIwkqbS0VHV1dUpKSrJrunXrpk6dOqm4uFiSVFxcrB49etgBR5KSk5Pl8/l04MABu+ab22ioadhGY86ePSufz+e3AAAAMzVryKmvr9ekSZP04x//WHfccYckyePxKDw8XNHR0X61sbGx8ng8ds03A07DfMPcpWp8Pp++/vrrRvuZO3eunE6nvcTFxf3gYwQAANemZg05GRkZ2r9/v955553m3M0Vmzlzprxer70cP3482C0BAIBm0myPkGdmZmr9+vUqKirSLbfcYo+7XC6dO3dO1dXVfldzKisr5XK57JqdO3f6ba/h6atv1nz7iazKyko5HA5FRUU12lNERIQiIiJ+8LEBAIBrX8Cv5FiWpczMTK1Zs0abN29WfHy833yfPn3UunVrFRYW2mPl5eU6duyYEhMTJUmJiYnat2+fqqqq7JqCggI5HA4lJCTYNd/cRkNNwzYAAMD1LeBPVz311FNauXKl/uu//ktdu3a1x51Op32F5cknn9T777+v3NxcORwOPf3005Kk7du3S/rrI+S9evWS2+1Wdna2PB6Pxo4dq8cff1yvvPKKpL8+Qn7HHXcoIyNDjz32mDZv3qxnnnlGGzZsUHJy8hX1ytNVLR9PVwH4PngirGUL2tNVS5culdfr1U9+8hN17NjRXlatWmXXvPbaa7rvvvs0atQoDR48WC6XS++9954936pVK61fv16tWrVSYmKiHn30UY0bN04vvfSSXRMfH68NGzaooKBAPXv21IIFC/S73/3uigMOAAAwW7O/J+daxpWclo8rOQC+D67ktGzXzHtyAAAAgoGQAwAAjETIAQAARiLkAAAAIxFyAACAkQg5AADASIQcAABgJEIOAAAwEiEHAAAYiZADAACMRMgBAABGIuQAAAAjEXIAAICRCDkAAMBIhBwAAGAkQg4AADASIQcAABiJkAMAAIxEyAEAAEYi5AAAACMRcgAAgJEIOQAAwEiEHAAAYCRCDgAAMBIhBwAAGImQAwAAjETIAQAARiLkAAAAIxFyAACAkQg5AADASIQcAABgJEIOAAAwEiEHAAAYKSzYDeDa0WXGhmC3AABAwBByAADXnZb4H3VH5qUEu4UWp8X/uWrJkiXq0qWLIiMj1b9/f+3cuTPYLQEAgGtAiw45q1at0pQpU/TLX/5Se/bsUc+ePZWcnKyqqqpgtwYAAIKsRYechQsXasKECfr5z3+uhIQE5eTk6IYbbtDvf//7YLcGAACCrMXek3Pu3DmVlpZq5syZ9lhoaKiSkpJUXFzc6Dpnz57V2bNn7c9er1eS5PP5mrfZFqL+7FfBbgEA8B34rvp/DefCsqxL1rXYkPO///u/unDhgmJjY/3GY2NjdejQoUbXmTt3rl588cWLxuPi4pqlRwAAAsX5erA7uPZ8+eWXcjqd3znfYkPO9zFz5kxNmTLF/lxfX69Tp06pXbt2CgkJCWJnzcvn8ykuLk7Hjx+Xw+EIdjvG4fw2L85v8+L8Ni/Ob/OwLEtffvml3G73JetabMhp3769WrVqpcrKSr/xyspKuVyuRteJiIhQRESE31h0dHRztXjNcTgc/J+sGXF+mxfnt3lxfpsX5zfwLnUFp0GLvfE4PDxcffr0UWFhoT1WX1+vwsJCJSYmBrEzAABwLWixV3IkacqUKRo/frz69u2ru+66S6+//rpqa2v185//PNitAQCAIGvRIWf06NH64osvlJWVJY/Ho169eik/P/+im5GvdxEREfrlL3950Z/qEBic3+bF+W1enN/mxfkNrhDrcs9fAQAAtEAt9p4cAACASyHkAAAAIxFyAACAkQg5AADASIQcAABgJEKOQYqKijRy5Ei53W6FhIQoLy/Pb96yLGVlZaljx46KiopSUlKSDh8+HJxmW6BLnd+6ujpNnz5dPXr0UJs2beR2uzVu3DidPHkyeA23MJf79/tNTzzxhEJCQvT6669ftf5auis5vwcPHtT9998vp9OpNm3aqF+/fjp27NjVb7YFutz5rampUWZmpm655RZFRUUpISFBOTk5wWn2OkLIMUhtba169uypJUuWNDqfnZ2txYsXKycnRyUlJWrTpo2Sk5N15syZq9xpy3Sp8/vVV19pz549mj17tvbs2aP33ntP5eXluv/++4PQact0uX+/DdasWaMdO3Zc9jdr4O9y5/dPf/qTBg4cqG7dumnr1q3au3evZs+ercjIyKvcact0ufM7ZcoU5efn6+2339bBgwc1adIkZWZmau3atVe50+uMBSNJstasWWN/rq+vt1wulzV//nx7rLq62oqIiLD+4z/+IwgdtmzfPr+N2blzpyXJOnr06NVpyiDfdX5PnDhh/c3f/I21f/9+q3PnztZrr7121XszQWPnd/To0dajjz4anIYM09j5vf32262XXnrJb6x3797WrFmzrmJn1x+u5FwnKioq5PF4lJSUZI85nU71799fxcXFQezMXF6vVyEhIdfVj8A2p/r6eo0dO1bTpk3T7bffHux2jFJfX68NGzbo7//+75WcnKwOHTqof//+l/yTIZrm7rvv1tq1a/X555/Lsixt2bJFn376qYYNGxbs1oxGyLlOeDweSbroJy9iY2PtOQTOmTNnNH36dD388MP88nCAvPrqqwoLC9MzzzwT7FaMU1VVpZqaGs2bN0/Dhw/Xpk2b9MADD+jBBx/Utm3bgt2eEd544w0lJCTolltuUXh4uIYPH64lS5Zo8ODBwW7NaC36t6uAa1FdXZ1+9rOfybIsLV26NNjtGKG0tFSLFi3Snj17FBISEux2jFNfXy9J+ulPf6rJkydLknr16qXt27crJydH99xzTzDbM8Ibb7yhHTt2aO3atercubOKioqUkZEht9vtd4UdgcWVnOuEy+WSJFVWVvqNV1ZW2nP44RoCztGjR1VQUMBVnAD58MMPVVVVpU6dOiksLExhYWE6evSopk6dqi5dugS7vRavffv2CgsLU0JCgt949+7deboqAL7++mv94he/0MKFCzVy5Ej96Ec/UmZmpkaPHq3f/OY3wW7PaISc60R8fLxcLpcKCwvtMZ/Pp5KSEiUmJgaxM3M0BJzDhw/rj3/8o9q1axfslowxduxY7d27V2VlZfbidrs1bdo0bdy4MdjttXjh4eHq16+fysvL/cY//fRTde7cOUhdmaOurk51dXUKDfX/ym3VqpV9FQ3Ngz9XGaSmpkafffaZ/bmiokJlZWWKiYlRp06dNGnSJL388su67bbbFB8fr9mzZ8vtdis1NTV4Tbcglzq/HTt21EMPPaQ9e/Zo/fr1unDhgn2vU0xMjMLDw4PVdotxuX+/3w6NrVu3lsvlUteuXa92qy3S5c7vtGnTNHr0aA0ePFhDhgxRfn6+1q1bp61btwav6Rbkcuf3nnvu0bRp0xQVFaXOnTtr27Zt+rd/+zctXLgwiF1fB4L9eBcCZ8uWLZaki5bx48dblvXXx8hnz55txcbGWhEREdbQoUOt8vLy4Dbdglzq/FZUVDQ6J8nasmVLsFtvES737/fbeIS8aa7k/L711lvWrbfeakVGRlo9e/a08vLygtdwC3O58/uXv/zF+qd/+ifL7XZbkZGRVteuXa0FCxZY9fX1wW3ccCGWZVlXIUsBAABcVdyTAwAAjETIAQAARiLkAAAAIxFyAACAkQg5AADASIQcAABgJEIOAAAwEiEHAAAYiZADAACMRMgBAABGIuQAAAAj/R+Pow/sAlPVTwAAAABJRU5ErkJggg==",
            "text/plain": [
              "<Figure size 640x480 with 1 Axes>"
            ]
          },
          "metadata": {}
        }
      ],
      "metadata": {}
    },
    {
      "cell_type": "markdown",
      "source": [
        "The histogram above shows the number of occurrances of items (numbers) in a list. "
      ],
      "metadata": {}
    }
  ],
  "metadata": {
    "kernelspec": {
      "name": "python3",
      "display_name": "Python 3.9.5 64-bit ('venv': venv)"
    },
    "language_info": {
      "codemirror_mode": {
        "name": "ipython",
        "version": 3
      },
      "file_extension": ".py",
      "mimetype": "text/x-python",
      "name": "python",
      "nbconvert_exporter": "python",
      "pygments_lexer": "ipython3",
      "version": "3.9.5"
    },
    "colab": {
      "provenance": [],
      "collapsed_sections": [],
      "include_colab_link": true
    },
    "interpreter": {
      "hash": "e51880680cc2dd688e4fbae7d4346c379f4952864134ebe8764e53851f233242"
    }
  },
  "nbformat": 4,
  "nbformat_minor": 5
}