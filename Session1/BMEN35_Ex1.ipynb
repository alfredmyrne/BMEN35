{
  "nbformat": 4,
  "nbformat_minor": 0,
  "metadata": {
    "colab": {
      "provenance": [],
      "collapsed_sections": [],
      "authorship_tag": "ABX9TyOm5xbkfDqS7PiESZUK8WrV",
      "include_colab_link": true
    },
    "kernelspec": {
      "name": "python3",
      "display_name": "Python 3"
    },
    "language_info": {
      "name": "python"
    }
  },
  "cells": [
    {
      "cell_type": "markdown",
      "metadata": {
        "id": "view-in-github",
        "colab_type": "text"
      },
      "source": [
        "<a href=\"https://colab.research.google.com/github/antfolk/BMEN35/blob/main/Session1/BMEN35_Ex1.ipynb\" target=\"_parent\"><img src=\"https://colab.research.google.com/assets/colab-badge.svg\" alt=\"Open In Colab\"/></a>"
      ]
    },
    {
      "cell_type": "markdown",
      "source": [
        "In this first notebook, you will learn some of the basics of Python. General syntax and similar stuff. We can add number as below"
      ],
      "metadata": {
        "id": "vqDI3Y7Z9IhD"
      }
    },
    {
      "cell_type": "code",
      "execution_count": null,
      "metadata": {
        "id": "YoBbruaO9CeC"
      },
      "outputs": [],
      "source": [
        "5+7"
      ]
    },
    {
      "cell_type": "markdown",
      "source": [
        "Or we can use floating point numbers"
      ],
      "metadata": {
        "id": "hi1lp2mk9nCs"
      }
    },
    {
      "cell_type": "code",
      "source": [
        "3.5 + 8"
      ],
      "metadata": {
        "id": "8YRKG9yg9j2F",
        "outputId": "a5040f10-641f-43ce-b925-15ef90bee5f5",
        "colab": {
          "base_uri": "https://localhost:8080/"
        }
      },
      "execution_count": null,
      "outputs": [
        {
          "output_type": "execute_result",
          "data": {
            "text/plain": [
              "11.5"
            ]
          },
          "metadata": {},
          "execution_count": 1
        }
      ]
    },
    {
      "cell_type": "markdown",
      "source": [
        "We can define variables. We don't necessearily needs to define the type of the variable (as in eg. C or Java with int myAge = 150). In colab you can also view variables by clicking on {x} in left toolbar"
      ],
      "metadata": {
        "id": "kTagF1SP-Ntd"
      }
    },
    {
      "cell_type": "code",
      "source": [
        "myAge = 356\n",
        "myName = 'Lund University'"
      ],
      "metadata": {
        "id": "ND2zS1VR9ryp"
      },
      "execution_count": null,
      "outputs": []
    },
    {
      "cell_type": "markdown",
      "source": [
        "And we can find out the types of the variable by using `type()`"
      ],
      "metadata": {
        "id": "CtWylaXG-ssh"
      }
    },
    {
      "cell_type": "code",
      "source": [
        "type(myAge)"
      ],
      "metadata": {
        "id": "ooBK68O8-sBa",
        "outputId": "cda585ca-ed5c-4089-b0cf-931698ac0d9a",
        "colab": {
          "base_uri": "https://localhost:8080/"
        }
      },
      "execution_count": null,
      "outputs": [
        {
          "output_type": "execute_result",
          "data": {
            "text/plain": [
              "int"
            ]
          },
          "metadata": {},
          "execution_count": 4
        }
      ]
    },
    {
      "cell_type": "code",
      "source": [
        "type(myName)"
      ],
      "metadata": {
        "id": "A3cf_1Tl-5-R"
      },
      "execution_count": null,
      "outputs": []
    },
    {
      "cell_type": "markdown",
      "source": [
        "We can define two numbers and add them. Also pay attention to what happen in the Variables window to the left."
      ],
      "metadata": {
        "id": "taxT8oz_AUI2"
      }
    },
    {
      "cell_type": "code",
      "source": [
        "first_num = 2\n",
        "second_num = 4\n",
        "result = first_num + second_num\n",
        "print(result)"
      ],
      "metadata": {
        "id": "WXy31aUQATIu"
      },
      "execution_count": null,
      "outputs": []
    },
    {
      "cell_type": "markdown",
      "source": [
        "We can also do things that may not be what we wanted... Before you run the cell, think what the results will be (`my_yearly_incomes`)"
      ],
      "metadata": {
        "id": "ipFKma9YB6Db"
      }
    },
    {
      "cell_type": "code",
      "source": [
        "my_incomes = '1000'\n",
        "my_yearly_incomes = 12*my_incomes\n",
        "print(my_yearly_incomes)"
      ],
      "metadata": {
        "id": "Zl3SgIA_Co2k"
      },
      "execution_count": null,
      "outputs": []
    },
    {
      "cell_type": "markdown",
      "source": [
        "This is probaly more what is wanted"
      ],
      "metadata": {
        "id": "wsPJbCQUC-xY"
      }
    },
    {
      "cell_type": "code",
      "source": [
        "my_salary = 1000\n",
        "my_yearly_income = 12*1000\n",
        "print(my_yearly_income)"
      ],
      "metadata": {
        "id": "DkzHg5ewBNeA"
      },
      "execution_count": null,
      "outputs": []
    },
    {
      "cell_type": "markdown",
      "source": [
        "Some of the more \"advanced\" data types in Python are `list`,`tuple`, `set` and `dictionary`. These are typically used to store *collections* of data. We will explore lists first. \n",
        "List items are ordered, changeable, and allow duplicate values. Ordered means that items have a defined order and that order will not change. If a new item is added to a list, the new item will be placed at the end of the list. Changable means items can be changed, added or removed after the list was created. You can acces elements in a list through indexing.\n",
        "\n",
        "A list is created as below (note the use of square brackets [ ]) :"
      ],
      "metadata": {
        "id": "E01DQEELFjxI"
      }
    },
    {
      "cell_type": "code",
      "source": [
        "my_list = ['Lund' , 'Stockholm', 'Malmö', 'Malmö']\n",
        "print(my_list)"
      ],
      "metadata": {
        "id": "tk0N7t70GSok"
      },
      "execution_count": null,
      "outputs": []
    },
    {
      "cell_type": "markdown",
      "source": [
        "A list can have different datatypes"
      ],
      "metadata": {
        "id": "oPlC-0CkGpOV"
      }
    },
    {
      "cell_type": "code",
      "source": [
        "diff_list = [12, 'my_age', True, 3.14, 'Lund']\n",
        "print(type(diff_list))\n",
        "print(type(diff_list[4]))"
      ],
      "metadata": {
        "id": "ZCdGCr_oJAYV"
      },
      "execution_count": null,
      "outputs": []
    },
    {
      "cell_type": "markdown",
      "source": [
        "There are several ways of manipulating lists."
      ],
      "metadata": {
        "id": "BMhfhB-tLVTZ"
      }
    },
    {
      "cell_type": "code",
      "source": [
        "numbers_list = [1,3,4,5,6,7]\n",
        "numbers_list.insert(1,2)\n",
        "print(numbers_list)\n",
        "numbers_list.append(8)\n",
        "print(numbers_list)\n",
        "numbers_list.extend([9,10,11])\n",
        "print(numbers_list)"
      ],
      "metadata": {
        "id": "U-6alLDSL7VY"
      },
      "execution_count": null,
      "outputs": []
    },
    {
      "cell_type": "markdown",
      "source": [
        "The next datatype is `tuple`. A tuple is a collection which is ordered and **unchangeable** and allow duplicate values.\n",
        "\n",
        "A tuple is created as below (note the use of round brackets ( ) ):\n"
      ],
      "metadata": {
        "id": "yTfF5mx3MxQv"
      }
    },
    {
      "cell_type": "code",
      "source": [
        "numbers_tuple = (1,2,3,4,5)\n",
        "print(type(numbers_tuple))\n",
        "print(numbers_tuple[0])"
      ],
      "metadata": {
        "id": "WcL_1OXmNHGp"
      },
      "execution_count": null,
      "outputs": []
    },
    {
      "cell_type": "markdown",
      "source": [
        "A tuple is unchangeable so the following wont work"
      ],
      "metadata": {
        "id": "IVh0pi5gU3hk"
      }
    },
    {
      "cell_type": "code",
      "source": [
        "numbers_tuple.insert(1,2)"
      ],
      "metadata": {
        "id": "FyoSKKaEU_VJ"
      },
      "execution_count": null,
      "outputs": []
    },
    {
      "cell_type": "markdown",
      "source": [
        "The next datatype is dictionary, Dictionaries are used to store data values in **key:value pairs**. A dictionary is a collection which is ordered, changeable and **do not allow duplicates**.\n",
        "\n",
        "A dictionary is created as below (note the use of curly bracket **{ }** )"
      ],
      "metadata": {
        "id": "-njHNTn3VbeU"
      }
    },
    {
      "cell_type": "code",
      "source": [
        "furniture_dict = {\"brand\": \"Ikea\", \"model\": \"Billy\", \"year\": 2015, \"model\": 'Kallax'}\n",
        "print(type(furniture_dict))\n",
        "print(furniture_dict)"
      ],
      "metadata": {
        "id": "OD_v0-m5V7ta"
      },
      "execution_count": null,
      "outputs": []
    },
    {
      "cell_type": "markdown",
      "source": [
        "Dictionaries can be accessed using the \"key\""
      ],
      "metadata": {
        "id": "bggpyiKPW0Fw"
      }
    },
    {
      "cell_type": "code",
      "source": [
        "print(furniture_dict['brand'])"
      ],
      "metadata": {
        "id": "ekO_tS9GWzMC"
      },
      "execution_count": null,
      "outputs": []
    },
    {
      "cell_type": "markdown",
      "source": [
        "In the next part we will look at program \"flow control\". You are familiar with these concepts (`if` statements, `for`-loop, `while`-loop). We will start with an example of the while statement. Pay attention to the **:** and indentation. Indentation is the Python way of grouping statement (instead of eg curly brackets in C or Java or an end statement in Matlab)"
      ],
      "metadata": {
        "id": "YHHknGANX8eU"
      }
    },
    {
      "cell_type": "code",
      "source": [
        "# Calculate squares\n",
        "i = 1\n",
        "while i < 10:\n",
        "  print(i*i)\n",
        "  i+=1\n",
        "\n"
      ],
      "metadata": {
        "id": "vJ1NtiylZc5c"
      },
      "execution_count": null,
      "outputs": []
    },
    {
      "cell_type": "markdown",
      "source": [
        "Now lets take a look at `if` statements. In Python they consist of `if`, `elif`, `else`. \n"
      ],
      "metadata": {
        "id": "Ee_-IAXhc9Ot"
      }
    },
    {
      "cell_type": "code",
      "source": [
        "x = int(input(\"Please enter an integer: \"))\n",
        "\n",
        "if x < 0:\n",
        "  print('Negative')\n",
        "elif x == 0:\n",
        "    print('Zero')\n",
        "else:\n",
        "    print('Positive')"
      ],
      "metadata": {
        "id": "bioM8IuUq8wz"
      },
      "execution_count": null,
      "outputs": []
    },
    {
      "cell_type": "markdown",
      "source": [
        "The `for`statement in Python are somewhat different from what you may be used to. Python can iterate over the items of any sequence. Python can only iterate over \"iterable\" items. "
      ],
      "metadata": {
        "id": "Cug_9aFQrlLI"
      }
    },
    {
      "cell_type": "code",
      "source": [
        "my_weird_list = [12, 'my_age', True, 3.14, 'Lund']\n",
        "for i in my_weird_list:\n",
        "  print(i)"
      ],
      "metadata": {
        "id": "8LaaeQ1lr9nX"
      },
      "execution_count": null,
      "outputs": []
    },
    {
      "cell_type": "markdown",
      "source": [
        "The `range()`function is sometimes useful in for-loops."
      ],
      "metadata": {
        "id": "kIgmoxR_uH63"
      }
    },
    {
      "cell_type": "code",
      "source": [
        "for i in range(5):\n",
        "  print(i)"
      ],
      "metadata": {
        "id": "6e_otLU7uG_l"
      },
      "execution_count": null,
      "outputs": []
    },
    {
      "cell_type": "code",
      "source": [
        "for j in range(0,10,2):\n",
        "  print(j)\n"
      ],
      "metadata": {
        "id": "Rihr50WsuW_l"
      },
      "execution_count": null,
      "outputs": []
    },
    {
      "cell_type": "markdown",
      "source": [
        "There are other flow control statements that can be useful at times, for example the `match - case` which are similar to `switch - case` in C or Java"
      ],
      "metadata": {
        "id": "ydbkMhfLuyCF"
      }
    },
    {
      "cell_type": "markdown",
      "source": [
        "The next thing we will look into is the use of functions (or methods if you more into the OOP jargon). A function is a block of code which only runs when it is called. You can pass data (parameters) to a function and a function can return data as a result. In Python functions are defined by the `def` keyword. Function prototypes are not necessary and return types need not be specified (as in C or Java)."
      ],
      "metadata": {
        "id": "aTEG216BwZFs"
      }
    },
    {
      "cell_type": "code",
      "source": [
        "def my_funky_function():\n",
        "  print(\"I am a funky function\")"
      ],
      "metadata": {
        "id": "vR8DcsTS5w4Z"
      },
      "execution_count": null,
      "outputs": []
    },
    {
      "cell_type": "markdown",
      "source": [
        "Now, nothing happened because the function was not called. A function is called by using the function name"
      ],
      "metadata": {
        "id": "5oLnfrxB5-ws"
      }
    },
    {
      "cell_type": "code",
      "source": [
        "my_funky_function()"
      ],
      "metadata": {
        "id": "RDNK6PA-6LZI"
      },
      "execution_count": null,
      "outputs": []
    },
    {
      "cell_type": "markdown",
      "source": [
        "A function can take parameters/arguments and return something. For example"
      ],
      "metadata": {
        "id": "bVnwkaF36ewV"
      }
    },
    {
      "cell_type": "code",
      "source": [
        "def my_add_function(x,y):\n",
        "  return (x+y)\n",
        "\n",
        "a = my_add_function(5,4) \n",
        "print(a)"
      ],
      "metadata": {
        "id": "yV2PaxCQ6qab"
      },
      "execution_count": null,
      "outputs": []
    },
    {
      "cell_type": "markdown",
      "source": [
        "Part of the \"magic\" of Python are the extensive libraries and parts of these are the modules. A module is a file with functions. This makes writing a program easier since you can \"hide\" a lot of code in modules.\n",
        "\n",
        "In order to try this (in colab), go to Files in the left menu. Right-click in the list and select New file. Change the name of the file to `myfirstmodule.py` . \n",
        "\n",
        "If this doesn't work run the following cell."
      ],
      "metadata": {
        "id": "GZoXKaxD7SVW"
      }
    },
    {
      "cell_type": "code",
      "source": [
        "!touch myfirstmodule.py"
      ],
      "metadata": {
        "id": "apwK42pJKZG6"
      },
      "execution_count": null,
      "outputs": []
    },
    {
      "cell_type": "markdown",
      "source": [
        "Now you should have a file named myfirstmodule.py.\n",
        "\n",
        "Double click the file and write a function named `my_cool_adder()` that take three numbers as a argument and returns their sum.\n",
        "\n",
        "Run the code below.\n"
      ],
      "metadata": {
        "id": "Jc7LJiAhKoxb"
      }
    },
    {
      "cell_type": "code",
      "source": [
        "import myfirstmodule\n",
        "a = myfirstmodule.my_cool_adder(2,3,4)\n",
        "print(a)"
      ],
      "metadata": {
        "id": "TMIIZafrBiwa"
      },
      "execution_count": null,
      "outputs": []
    },
    {
      "cell_type": "markdown",
      "source": [
        "Make a new file named mysecondmodule.py . Write a new function named my_cool_multiplier that multiplies 3 number (keep in mind indentation). Run the code below."
      ],
      "metadata": {
        "id": "O7mZH05xCORv"
      }
    },
    {
      "cell_type": "code",
      "source": [
        "from mysecondmodule import my_cool_multiplier\n",
        "\n",
        "b = my_cool_multiplier(2,3,4)\n",
        "print(b)"
      ],
      "metadata": {
        "id": "Mr3kA00HDseF"
      },
      "execution_count": null,
      "outputs": []
    },
    {
      "cell_type": "markdown",
      "source": [],
      "metadata": {
        "id": "0tkGXAuDFq3v"
      }
    }
  ]
}