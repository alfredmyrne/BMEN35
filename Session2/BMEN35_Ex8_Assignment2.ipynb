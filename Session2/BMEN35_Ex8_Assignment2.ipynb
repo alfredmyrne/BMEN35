{
  "cells": [
    {
      "cell_type": "markdown",
      "source": [
        "<a href=\"https://colab.research.google.com/github/antfolk/BMEN35/blob/main/Session2/BMEN35_Ex8_Assignment2.ipynb\" target=\"_parent\"><img src=\"https://colab.research.google.com/assets/colab-badge.svg\" alt=\"Open In Colab\"/></a>"
      ],
      "metadata": {
        "id": "view-in-github",
        "colab_type": "text"
      }
    },
    {
      "cell_type": "markdown",
      "source": [
        "# Assignment 2\n",
        "\n",
        "## Fill in your name below\n",
        "Alfred Myrne al5247my-s\n",
        "\n",
        "## Your mission is now the following:\n",
        "You will use the Breast Cancer Wisconsin (Diagnostic) Data Set for this assignment. The dataset contains ten features computed for each cell nucleus. Features are computed from a digitized image of a fine needle aspirate (FNA) of a breast mass. They describe characteristics of the cell nuclei present in the image. You can find a description of this dataset here https://archive.ics.uci.edu/ml/datasets/Breast+Cancer+Wisconsin+(Diagnostic) The dataset is annotated, the mass is either malignant or benign.\n",
        "\n",
        "This dataset is \"built-in\" to sklearn so you do not need to download it separately.\n",
        "\n",
        "\n",
        "\n",
        "### When you have finished this assignment , save this notebook and submit it as assignment 2\n"
      ],
      "metadata": {
        "id": "HRWK56LV6vbY"
      }
    },
    {
      "cell_type": "markdown",
      "source": [
        "Lets start by importing some useful modules and we will import the data aswell."
      ],
      "metadata": {
        "id": "TTLx5ZJE5Vh6"
      }
    },
    {
      "cell_type": "code",
      "execution_count": 1,
      "source": [
        "import numpy as np # Always good to have...\n",
        "from sklearn.datasets import load_breast_cancer # We are going to use the Breast cancer dataset\n",
        "from sklearn.model_selection import train_test_split  # Split them data \n",
        "from sklearn.preprocessing import StandardScaler # Here we will also \"scale\" our data\n",
        "\n",
        "X, y = load_breast_cancer(return_X_y=True) # Load the dataset\n",
        "\n",
        "X_train, X_test, y_train, y_test = train_test_split(X,y, test_size=0.5, random_state=0) # Split the dataset into training and test\n"
      ],
      "outputs": [],
      "metadata": {
        "id": "-_muO3bD9FYa"
      }
    },
    {
      "cell_type": "markdown",
      "source": [
        "So, now we have loaded the dataset, and we have split into a training set and a test set and we have standardized tat"
      ],
      "metadata": {
        "id": "BHVF9aLr5Vh9"
      }
    },
    {
      "cell_type": "markdown",
      "source": [
        "In it generally good practise to \"scale/normalise\" your data before use. There are many possibilites here, but in this example we will `StandardScaler()` function. This function removes the means and scales to unit variance for each feature. (Check this for yourself, you should know how to do it, hint: np.mean() and np.var()). Also think about why we do it after the dataset is split into test and train."
      ],
      "metadata": {
        "id": "hsbTsoXrJCLX"
      }
    },
    {
      "cell_type": "code",
      "execution_count": 2,
      "source": [
        "scaler = StandardScaler()\n",
        "X_train = scaler.fit_transform(X_train) # We use the train data to find the scaling parameters\n",
        "X_test = scaler.transform(X_test)"
      ],
      "outputs": [],
      "metadata": {
        "id": "zO8NsVMhKDrU",
        "scrolled": true
      }
    },
    {
      "cell_type": "markdown",
      "source": [
        "Now the data has been loaded and processed. In the next cell create a knn-classifier using 3 neighbors and use the sklearn library. Fill in the blanks"
      ],
      "metadata": {
        "id": "7odTXPvoK3V0"
      }
    },
    {
      "cell_type": "code",
      "execution_count": 4,
      "source": [
        "from sklearn.neighbors import KNeighborsClassifier\n",
        "from sklearn.metrics import accuracy_score\n",
        "clf = KNeighborsClassifier(n_neighbors=3) # Fill in missing information\n",
        "clf.fit(X_train,  y=y_train) # Fill in missing information\n",
        "y_hat = clf.predict(X_test)\n",
        "acc = accuracy_score(y_test,y_hat)\n",
        "print(acc)\n",
        "\n"
      ],
      "outputs": [
        {
          "output_type": "stream",
          "name": "stdout",
          "text": [
            "0.9473684210526315\n"
          ]
        }
      ],
      "metadata": {
        "id": "HqAi3mMhLvvN"
      }
    },
    {
      "cell_type": "markdown",
      "source": [
        "Now do the same using a Decision Tree classifier. Hint: from sklearn.tree import DecisionTreeClassifier. Fill in the cell below"
      ],
      "metadata": {
        "id": "tiBX8tFW5ViD"
      }
    },
    {
      "cell_type": "code",
      "execution_count": 5,
      "source": [
        "# Fill in code for you Decision Tree classifier here.\n",
        "\n",
        "from sklearn.tree import DecisionTreeClassifier\n",
        "\n",
        "clf_dt = DecisionTreeClassifier()\n",
        "clf_dt.fit(X_train, y_train)\n",
        "y_hat = clf_dt.predict(X_test)\n",
        "acc = accuracy_score(y_test,y_hat)\n",
        "print(acc)"
      ],
      "outputs": [
        {
          "output_type": "stream",
          "name": "stdout",
          "text": [
            "0.9192982456140351\n"
          ]
        }
      ],
      "metadata": {
        "id": "7EwGdYur5ViE"
      }
    },
    {
      "cell_type": "markdown",
      "source": [
        "When you have finished this assignment , save this notebook and submit it as assignment 2 in Canvas.\n",
        "## The end"
      ],
      "metadata": {
        "id": "ExDDHi-15ViF"
      }
    },
    {
      "cell_type": "code",
      "execution_count": null,
      "source": [],
      "outputs": [],
      "metadata": {
        "id": "DdcTWbrT5ViF"
      }
    }
  ],
  "metadata": {
    "colab": {
      "collapsed_sections": [],
      "provenance": [],
      "include_colab_link": true
    },
    "kernelspec": {
      "name": "python3",
      "display_name": "Python 3.9.5 64-bit ('venv': venv)"
    },
    "language_info": {
      "codemirror_mode": {
        "name": "ipython",
        "version": 3
      },
      "file_extension": ".py",
      "mimetype": "text/x-python",
      "name": "python",
      "nbconvert_exporter": "python",
      "pygments_lexer": "ipython3",
      "version": "3.9.5"
    },
    "interpreter": {
      "hash": "aa0795ef1f7e2ccdc2f8013417d5ffb5ac5a374cb5243d1eb6167fb02b307d40"
    }
  },
  "nbformat": 4,
  "nbformat_minor": 2
}